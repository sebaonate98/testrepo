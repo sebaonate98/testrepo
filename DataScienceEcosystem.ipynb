{
 "cells": [
  {
   "cell_type": "markdown",
   "id": "0f868e5d-786f-49c3-a603-1171ebc5ebfa",
   "metadata": {},
   "source": [
    "# Data Science Tools and Ecosystem #"
   ]
  },
  {
   "cell_type": "markdown",
   "id": "9fb1b638-0480-4fb2-afed-6d05426b3dbb",
   "metadata": {},
   "source": [
    "In this notebook, Data Science Tools and Ecosystem are summarized"
   ]
  },
  {
   "cell_type": "markdown",
   "id": "ece0459f-5caf-4d9c-97b3-a0462566b9d7",
   "metadata": {},
   "source": [
    "**Objectives:**\n",
    "- List popular languages for Data Science\n",
    "- List popular libraries for Data Science\n",
    "- Evaluate arithmetical expressions in Python"
   ]
  },
  {
   "cell_type": "markdown",
   "id": "358e0e03-7cd7-47a3-aa23-1d6b96c26a84",
   "metadata": {},
   "source": [
    "Some of the popular languages that Data Scientists use are:\n",
    "1. Python\n",
    "2. SQL\n",
    "3. R\n",
    "\n",
    "Some of the commonly used libraries used by Data Scientists include:\n",
    "1. Pandas\n",
    "2. Plotlib\n",
    "3. PyTorch\n",
    "4. TensorFlow"
   ]
  },
  {
   "cell_type": "markdown",
   "id": "5f578552-334e-44ea-8960-d85f82097903",
   "metadata": {},
   "source": [
    "### Data Science Tools ###"
   ]
  },
  {
   "cell_type": "markdown",
   "id": "692df2a0-7c79-4a64-89f8-8faee1c42e7b",
   "metadata": {},
   "source": [
    "|Data Science Tools|\n",
    ":------------------:\n",
    "|VS Code|\n",
    "|RStudio|\n",
    "|GitHub|"
   ]
  },
  {
   "cell_type": "markdown",
   "id": "0f059a9c-1839-4a0e-8ee7-9465aabd96f6",
   "metadata": {},
   "source": [
    "### Below are a few examples of evaluating arithmetic expressions in Python ###"
   ]
  },
  {
   "cell_type": "code",
   "execution_count": 1,
   "id": "661bcfe4-2f53-41b4-a0bb-89cf72403085",
   "metadata": {},
   "outputs": [
    {
     "data": {
      "text/plain": [
       "17"
      ]
     },
     "execution_count": 1,
     "metadata": {},
     "output_type": "execute_result"
    }
   ],
   "source": [
    "#This is a simple arithmetic expression tu multiply then add integers\n",
    "(3*4)+5"
   ]
  },
  {
   "cell_type": "code",
   "execution_count": 3,
   "id": "c859e95e-ac5e-4945-96e4-463a831cf5b6",
   "metadata": {},
   "outputs": [
    {
     "data": {
      "text/plain": [
       "3.3333333333333335"
      ]
     },
     "execution_count": 3,
     "metadata": {},
     "output_type": "execute_result"
    }
   ],
   "source": [
    "#This will convert 200 minutes to hours by dividing by 60\n",
    "def mintohour(minutes):\n",
    "    return (minutes/60)\n",
    "\n",
    "mintohour(200)\n",
    "    "
   ]
  },
  {
   "cell_type": "markdown",
   "id": "d26ddad3-12c2-4a74-97ce-e0a6d443f950",
   "metadata": {},
   "source": [
    "## Author ##\n",
    "Sebastián Ignacio Oñate Inostroza"
   ]
  },
  {
   "cell_type": "code",
   "execution_count": null,
   "id": "db2ae4a6-8028-480c-8434-3c83f4c6ce37",
   "metadata": {},
   "outputs": [],
   "source": []
  }
 ],
 "metadata": {
  "kernelspec": {
   "display_name": "Python [conda env:base] *",
   "language": "python",
   "name": "conda-base-py"
  },
  "language_info": {
   "codemirror_mode": {
    "name": "ipython",
    "version": 3
   },
   "file_extension": ".py",
   "mimetype": "text/x-python",
   "name": "python",
   "nbconvert_exporter": "python",
   "pygments_lexer": "ipython3",
   "version": "3.12.7"
  }
 },
 "nbformat": 4,
 "nbformat_minor": 5
}
